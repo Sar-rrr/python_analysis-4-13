{
  "nbformat": 4,
  "nbformat_minor": 0,
  "metadata": {
    "colab": {
      "provenance": [],
      "authorship_tag": "ABX9TyMdcKtcAnT+QnQrPtVPRRbg",
      "include_colab_link": true
    },
    "kernelspec": {
      "name": "python3",
      "display_name": "Python 3"
    },
    "language_info": {
      "name": "python"
    }
  },
  "cells": [
    {
      "cell_type": "markdown",
      "metadata": {
        "id": "view-in-github",
        "colab_type": "text"
      },
      "source": [
        "<a href=\"https://colab.research.google.com/github/Sar-rrr/python_analysis-4-13/blob/main/lesson1_2.ipynb\" target=\"_parent\"><img src=\"https://colab.research.google.com/assets/colab-badge.svg\" alt=\"Open In Colab\"/></a>"
      ]
    },
    {
      "cell_type": "code",
      "execution_count": null,
      "metadata": {
        "id": "hky_ElpNYY7V"
      },
      "outputs": [],
      "source": [
        "\"這是字串\"\n",
        "'這也是字串'\n",
        "單引號雙引號都一樣\n",
        "字串裡面的文字是無法換行的"
      ]
    },
    {
      "cell_type": "code",
      "source": [
        "'這是數值:'+10 ----- 會當機‵閃退\n",
        "字串加字串會連在一起,並不會相加"
      ],
      "metadata": {
        "id": "DcbWZcvvadvt"
      },
      "execution_count": null,
      "outputs": []
    },
    {
      "cell_type": "code",
      "source": [
        "'這是數值:' + str(10)字串沒辦法跟數值相加\n",
        "所以要把10括號起來打str,把10變成字串"
      ],
      "metadata": {
        "colab": {
          "base_uri": "https://localhost:8080/",
          "height": 35
        },
        "id": "KZNSogBBcalX",
        "outputId": "06fc3c97-2c31-4470-e9fa-e4a382355e5a"
      },
      "execution_count": null,
      "outputs": [
        {
          "output_type": "execute_result",
          "data": {
            "text/plain": [
              "'這是數值:10'"
            ],
            "application/vnd.google.colaboratory.intrinsic+json": {
              "type": "string"
            }
          },
          "metadata": {},
          "execution_count": 3
        }
      ]
    },
    {
      "cell_type": "code",
      "source": [
        "print('這是第1個數值:' + str(10) + \"\\n這是第2個數值:\" + str(20.0))\n",
        "補充:print是顯示在螢幕上的，所以不會出現單引號或換行格式(如下)\n",
        "display:是顯示格式\n",
        "\\n : 是分開的(如下)"
      ],
      "metadata": {
        "colab": {
          "base_uri": "https://localhost:8080/"
        },
        "id": "C2w6V-dwfbYB",
        "outputId": "314e1c98-372e-410d-a3f0-a0532286aa99"
      },
      "execution_count": null,
      "outputs": [
        {
          "output_type": "stream",
          "name": "stdout",
          "text": [
            "這是第1個數值:10\n",
            "這是第2個數值:20.0\n"
          ]
        }
      ]
    },
    {
      "cell_type": "markdown",
      "source": [
        "字串插補"
      ],
      "metadata": {
        "id": "dekUScfXiIKs"
      }
    },
    {
      "cell_type": "code",
      "source": [
        "print(f\"這是第1個數值:{10}\\n這是第2個數值:{20.0}\")"
      ],
      "metadata": {
        "colab": {
          "base_uri": "https://localhost:8080/"
        },
        "id": "DU6DoWW-iPaE",
        "outputId": "05795cf3-3c6b-4d92-a73e-5bb39abc7973"
      },
      "execution_count": null,
      "outputs": [
        {
          "output_type": "stream",
          "name": "stdout",
          "text": [
            "這是第1個數值:10\n",
            "這是第2個數值:20.0\n"
          ]
        }
      ]
    },
    {
      "cell_type": "code",
      "source": [
        "print('這是\"python\"')"
      ],
      "metadata": {
        "colab": {
          "base_uri": "https://localhost:8080/"
        },
        "id": "UPn8TWOmjg5i",
        "outputId": "3ca934f9-fba1-4df3-dd63-3867055bb595"
      },
      "execution_count": null,
      "outputs": [
        {
          "output_type": "stream",
          "name": "stdout",
          "text": [
            "這是\"python\"\n"
          ]
        }
      ]
    },
    {
      "cell_type": "code",
      "source": [
        "!python --version"
      ],
      "metadata": {
        "colab": {
          "base_uri": "https://localhost:8080/"
        },
        "id": "EzdFJDU0nwou",
        "outputId": "61f2187a-4d0c-4ed3-fb1f-1d419d7656d4"
      },
      "execution_count": null,
      "outputs": [
        {
          "output_type": "stream",
          "name": "stdout",
          "text": [
            "Python 3.11.12\n"
          ]
        }
      ]
    }
  ]
}