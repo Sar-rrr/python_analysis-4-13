{
  "nbformat": 4,
  "nbformat_minor": 0,
  "metadata": {
    "colab": {
      "provenance": [],
      "authorship_tag": "ABX9TyP9mAHZ/CoCCR6Qm7yIF6dM",
      "include_colab_link": true
    },
    "kernelspec": {
      "name": "python3",
      "display_name": "Python 3"
    },
    "language_info": {
      "name": "python"
    }
  },
  "cells": [
    {
      "cell_type": "markdown",
      "metadata": {
        "id": "view-in-github",
        "colab_type": "text"
      },
      "source": [
        "<a href=\"https://colab.research.google.com/github/Sar-rrr/python_analysis/blob/main/lesson1_1.ipynb\" target=\"_parent\"><img src=\"https://colab.research.google.com/assets/colab-badge.svg\" alt=\"Open In Colab\"/></a>"
      ]
    },
    {
      "cell_type": "code",
      "execution_count": null,
      "metadata": {
        "colab": {
          "base_uri": "https://localhost:8080/"
        },
        "id": "ygD5KrCXp_YN",
        "outputId": "d024c3f2-cf73-4bc5-fc8f-b33d596006f1"
      },
      "outputs": [
        {
          "output_type": "stream",
          "name": "stdout",
          "text": [
            "hello! World\n"
          ]
        }
      ],
      "source": [
        "print(\"hello! World\")"
      ]
    },
    {
      "cell_type": "code",
      "source": [
        "print(\"這是python的第1節課\")"
      ],
      "metadata": {
        "colab": {
          "base_uri": "https://localhost:8080/"
        },
        "id": "FA5_HVGst2fU",
        "outputId": "9ff94d26-59ec-4b46-d5c5-47b28d0a25fd"
      },
      "execution_count": 6,
      "outputs": [
        {
          "output_type": "stream",
          "name": "stdout",
          "text": [
            "這是python的第1節課\n"
          ]
        }
      ]
    },
    {
      "cell_type": "markdown",
      "source": [
        "### python的基本資料類型\n",
        "- int\n",
        "- float\n",
        "- str\n",
        "- bool"
      ],
      "metadata": {
        "id": "8qBoKhDSwxqC"
      }
    },
    {
      "cell_type": "code",
      "source": [
        "10 #代表(int)整數\n",
        "10.0 #代表(float)浮點數\n",
        "\"10.0\" #代表(str)字串\n",
        "'10.0' #同上,雙引號單引號都代表字串\n",
        "True #代表(bool)布林值,開頭要大寫\n",
        "False #代表(bool)布林值,開頭要大寫"
      ],
      "metadata": {
        "colab": {
          "base_uri": "https://localhost:8080/"
        },
        "id": "elgow9Sexa_Q",
        "outputId": "e7962c97-3e0c-4cc3-a981-4b407b55f1e0"
      },
      "execution_count": 7,
      "outputs": [
        {
          "output_type": "execute_result",
          "data": {
            "text/plain": [
              "False"
            ]
          },
          "metadata": {},
          "execution_count": 7
        }
      ]
    },
    {
      "cell_type": "code",
      "source": [
        "python數學運算子\n",
        "\n",
        "5 + 8\n",
        "90 - 10\n",
        "4 * 7\n",
        "7 / 2 #浮點數除法\n",
        "7 // 2 #整數除法\n",
        "7 % 2 #餘數\n",
        "3 ** 4 #次方"
      ],
      "metadata": {
        "colab": {
          "base_uri": "https://localhost:8080/"
        },
        "id": "klYzFlMk4fd-",
        "outputId": "835d20c8-b32e-411f-8046-d85dd9d406b8"
      },
      "execution_count": 8,
      "outputs": [
        {
          "output_type": "execute_result",
          "data": {
            "text/plain": [
              "81"
            ]
          },
          "metadata": {},
          "execution_count": 8
        }
      ]
    }
  ]
}